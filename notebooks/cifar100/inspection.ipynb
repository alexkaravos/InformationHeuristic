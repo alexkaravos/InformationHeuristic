{
 "cells": [
  {
   "cell_type": "code",
   "execution_count": 4,
   "id": "eba86928",
   "metadata": {},
   "outputs": [],
   "source": [
    "import numpy as np  \n",
    "import torch \n",
    "import matplotlib.pyplot as plt \n",
    "import sys\n",
    "sys.path.append('/home/alex/Documents/InformationHeuristic')\n",
    "from src.datasets.datasets import cifar100_dataset"
   ]
  },
  {
   "cell_type": "code",
   "execution_count": 22,
   "id": "a463e370",
   "metadata": {},
   "outputs": [],
   "source": [
    "from torch.nn import functional as F\n",
    "def compute_knn_accuracy(test_features,test_labels,train_features,train_labels,k=1,\n",
    "    distance_metric=\"euclidean\"):\n",
    "    \"\"\"\n",
    "    Computes the KNN Top-N classification accuracy using either Euclidean or Cosine similarity.\n",
    "\n",
    "    Args:\n",
    "        test_features (torch.Tensor): A tensor of features for the test samples.\n",
    "                                     Shape: (N_test, feature_dim).\n",
    "        test_labels (torch.Tensor): A tensor of corresponding labels for the\n",
    "                                   test samples. Shape: (N_test).\n",
    "        train_features (torch.Tensor): A tensor of features for the training/database samples.\n",
    "                                  Shape: (N_train, feature_dim).\n",
    "        train_labels (torch.Tensor): A tensor of corresponding labels for the\n",
    "                                database samples. Shape: (N_train).\n",
    "        k (int): The number of nearest neighbors to consider for classification.\n",
    "                 Must be a positive integer. Defaults to 1 (Top-1 accuracy).\n",
    "        distance_metric (str): The metric to use for finding neighbors.\n",
    "                               Accepts \"euclidean\" or \"cosine\".\n",
    "                               Defaults to \"euclidean\".\n",
    "\n",
    "    Returns:\n",
    "        float: The computed Top-N accuracy as a decimal value (e.g., 0.85 for 85%).\n",
    "    \"\"\"\n",
    "    # Ensure inputs are tensors and on the same device.\n",
    "    if not all(isinstance(t, torch.Tensor) for t in [test_features, test_labels, train_features, train_labels]):\n",
    "        raise TypeError(\"All inputs must be torch.Tensor objects.\")\n",
    "\n",
    "    # Validate k and distance_metric.\n",
    "    if not isinstance(k, int) or k < 1:\n",
    "        raise ValueError(\"k must be a positive integer.\")\n",
    "    if distance_metric not in [\"euclidean\", \"cosine\"]:\n",
    "        raise ValueError(\"distance_metric must be either 'euclidean' or 'cosine'.\")\n",
    "\n",
    "    if distance_metric == \"euclidean\":\n",
    "        # Calculate the pairwise Euclidean distance matrix.\n",
    "        # Shape: (N_test, N_train). Lower value means closer.\n",
    "        distances = torch.cdist(test_features, train_features, p=2)\n",
    "        # Find the k smallest distances and their corresponding indices.\n",
    "        # The 'sorted=True' ensures that the indices are in ascending order of distance.\n",
    "        topk_values, topk_indices = torch.topk(distances, k, largest=False, sorted=True)\n",
    "\n",
    "    elif distance_metric == \"cosine\":\n",
    "        # Cosine similarity requires normalized vectors for a correct interpretation.\n",
    "        test_features = F.normalize(test_features, dim=1)\n",
    "        train_features = F.normalize(train_features, dim=1)\n",
    "        \n",
    "        # Calculate the pairwise cosine similarity matrix.\n",
    "        # Shape: (N_test, N_train). Higher value means closer similarity.\n",
    "        similarities = F.cosine_similarity(test_features.unsqueeze(1), train_features.unsqueeze(0), dim=2)\n",
    "        \n",
    "        # Find the k largest similarities and their corresponding indices.\n",
    "        # 'largest=True' is crucial here as we are looking for maximum similarity.\n",
    "        topk_values, topk_indices = torch.topk(similarities, k, largest=True, sorted=True)\n",
    "\n",
    "    # Use the top-k indices to look up the labels of the nearest neighbors.\n",
    "    # This results in a tensor of shape (N_test, k).\n",
    "    predicted_labels_topk = train_labels[topk_indices]\n",
    "\n",
    "    # Reshape test labels to (N_test, 1) to enable a direct comparison.\n",
    "    test_labels_reshaped = test_labels.unsqueeze(1)\n",
    "\n",
    "    # Check if the true label is present in the top-k predicted labels for each query.\n",
    "    # The comparison '==' broadcasts the test_labels_reshaped across the k dimension.\n",
    "    # 'torch.any(..., dim=1)' checks if at least one of the k predictions is correct.\n",
    "    correct_predictions = torch.any(predicted_labels_topk == test_labels_reshaped, dim=1)\n",
    "\n",
    "    # Calculate the accuracy as the mean of correct predictions.\n",
    "    accuracy = correct_predictions.float().mean().item()\n",
    "\n",
    "    return accuracy\n",
    "\n"
   ]
  },
  {
   "cell_type": "code",
   "execution_count": 16,
   "id": "f61270d7",
   "metadata": {},
   "outputs": [
    {
     "name": "stdout",
     "output_type": "stream",
     "text": [
      "Files already downloaded and verified\n",
      "Files already downloaded and verified\n"
     ]
    }
   ],
   "source": [
    "train_dataset,test_dataset,_ = cifar100_dataset(data_folder='../../data/cifar100')"
   ]
  },
  {
   "cell_type": "code",
   "execution_count": 12,
   "id": "8a77512a",
   "metadata": {},
   "outputs": [],
   "source": [
    "train_labels = [train_dataset[i][1] for i in range(len(train_dataset))]\n",
    "test_labels = [test_dataset[i][1] for i in range(len(test_dataset))]\n",
    "\n",
    "train_labels = torch.tensor(train_labels)\n",
    "test_labels = torch.tensor(test_labels)"
   ]
  },
  {
   "cell_type": "code",
   "execution_count": null,
   "id": "e89510af",
   "metadata": {},
   "outputs": [],
   "source": [
    "train_features = torch.load(\"/home/alex/Documents/InformationHeuristic/weights/cifar100/representations/barlowtwin/barlowtwin_resnet18_5.00/train_features.pt\")\n",
    " test_features = torch.load(\"/home/alex/Documents/InformationHeuristic/weights/cifar100/representations/barlowtwin/barlowtwin_resnet18_5.00/test_features.pt\")"
   ]
  },
  {
   "cell_type": "code",
   "execution_count": 24,
   "id": "32d6f58d",
   "metadata": {},
   "outputs": [
    {
     "ename": "",
     "evalue": "",
     "output_type": "error",
     "traceback": [
      "\u001b[1;31mThe Kernel crashed while executing code in the current cell or a previous cell. \n",
      "\u001b[1;31mPlease review the code in the cell(s) to identify a possible cause of the failure. \n",
      "\u001b[1;31mClick <a href='https://aka.ms/vscodeJupyterKernelCrash'>here</a> for more info. \n",
      "\u001b[1;31mView Jupyter <a href='command:jupyter.viewOutput'>log</a> for further details."
     ]
    }
   ],
   "source": [
    "compute_knn_accuracy(test_features[:1000],test_labels[:1000],train_features,train_labels,distance_metric=\"cosine\")"
   ]
  },
  {
   "cell_type": "code",
   "execution_count": null,
   "id": "fec290dc",
   "metadata": {},
   "outputs": [],
   "source": []
  }
 ],
 "metadata": {
  "kernelspec": {
   "display_name": "base",
   "language": "python",
   "name": "python3"
  },
  "language_info": {
   "codemirror_mode": {
    "name": "ipython",
    "version": 3
   },
   "file_extension": ".py",
   "mimetype": "text/x-python",
   "name": "python",
   "nbconvert_exporter": "python",
   "pygments_lexer": "ipython3",
   "version": "3.12.2"
  }
 },
 "nbformat": 4,
 "nbformat_minor": 5
}
