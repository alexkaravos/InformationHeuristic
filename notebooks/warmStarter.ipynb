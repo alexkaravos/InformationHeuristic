{
 "cells": [
  {
   "cell_type": "code",
   "execution_count": 1,
   "id": "6eb73180",
   "metadata": {},
   "outputs": [],
   "source": [
    "import torch\n",
    "from torch.utils.data import DataLoader,TensorDataset\n",
    "import numpy as np\n",
    "import matplotlib.pyplot as plt\n",
    "import seaborn as sns\n",
    "import sys\n",
    "sys.path.append(\"..\")\n",
    "from torch import nn, optim\n",
    "from torch.nn import functional as F\n",
    "from src.datasets.dataset_wrappers import AugRepresentationDataset\n",
    "from IPython.display import display,clear_output\n",
    "import tqdm\n",
    "from sklearn.metrics import normalized_mutual_info_score as nmi\n",
    "import umap"
   ]
  },
  {
   "cell_type": "code",
   "execution_count": 2,
   "id": "6542503e",
   "metadata": {},
   "outputs": [],
   "source": [
    "#import the data\n",
    "org = torch.load(\"../originals.pt\")\n",
    "aug = torch.load(\"../augmentations.pt\")\n",
    "labels = torch.load(\"../labels.pt\")\n",
    "nn_indices = torch.load(\"../nn_indices.pt\")\n",
    "dataset = AugRepresentationDataset(aug,org,labels)\n"
   ]
  },
  {
   "cell_type": "code",
   "execution_count": 3,
   "id": "b4ff4242",
   "metadata": {},
   "outputs": [
    {
     "name": "stderr",
     "output_type": "stream",
     "text": [
      "/home/alex/anaconda3/lib/python3.12/site-packages/umap/umap_.py:1945: UserWarning: n_jobs value 1 overridden to 1 by setting random_state. Use no seed for parallelism.\n",
      "  warn(f\"n_jobs value {self.n_jobs} overridden to 1 by setting random_state. Use no seed for parallelism.\")\n"
     ]
    }
   ],
   "source": [
    "reducer = umap.UMAP(n_components=2,random_state=42,metric=\"cosine\")\n",
    "emb = reducer.fit_transform(org)\n"
   ]
  },
  {
   "cell_type": "code",
   "execution_count": 4,
   "id": "f448c3db",
   "metadata": {},
   "outputs": [],
   "source": [
    "#get umap kmeans labels\n",
    "from sklearn.cluster import KMeans\n",
    "kmeans = KMeans(n_clusters=10,random_state=42)\n",
    "umap_labels = kmeans.fit_predict(emb)\n"
   ]
  },
  {
   "cell_type": "code",
   "execution_count": null,
   "id": "50da4479",
   "metadata": {},
   "outputs": [],
   "source": [
    "class WarmStarter(nn.Module):\n",
    "    def __init__(self):\n",
    "        super(WarmStarter,self).__init__()\n",
    "        self.block1 = nn.Sequential(\n",
    "            nn.Linear(512,1024),\n",
    "            nn.Dropout(0.1),\n",
    "            nn.GELU(),\n",
    "            nn.Linear(1024,1024),\n",
    "            nn.Dropout(0.1),\n",
    "            nn.GELU(),\n",
    "            nn.Linear(1024,10)\n",
    "        )\n",
    "\n",
    "    def forward(self,w):\n",
    "        return self.block1(w)\n",
    "    "
   ]
  },
  {
   "cell_type": "markdown",
   "id": "f3d31adf",
   "metadata": {},
   "source": [
    "# Pretraining"
   ]
  },
  {
   "cell_type": "code",
   "execution_count": 9,
   "id": "916305b7",
   "metadata": {},
   "outputs": [
    {
     "name": "stdout",
     "output_type": "stream",
     "text": [
      "0.9623271475908873\n",
      "tensor(0.9857)\n"
     ]
    }
   ],
   "source": [
    "print(nmi(umap_labels,labels))\n",
    "def hungarian_matching(y_pred, y_true):\n",
    "    \"\"\"\n",
    "    Perform Hungarian matching to align predicted labels with true labels.\n",
    "    \n",
    "    Args:\n",
    "        y_pred: predicted cluster labels\n",
    "        y_true: true labels\n",
    "        \n",
    "    Returns:\n",
    "        y_pred_hungarianmatched: predicted labels after Hungarian matching\n",
    "    \"\"\"\n",
    "    from scipy.optimize import linear_sum_assignment\n",
    "    \n",
    "    # Convert to numpy if tensors\n",
    "    if hasattr(y_pred, 'cpu'):\n",
    "        y_pred = y_pred.cpu().numpy()\n",
    "    if hasattr(y_true, 'cpu'):\n",
    "        y_true = y_true.cpu().numpy()\n",
    "    \n",
    "    # Get unique labels\n",
    "    pred_labels = np.unique(y_pred)\n",
    "    true_labels = np.unique(y_true)\n",
    "    \n",
    "    # Create confusion matrix\n",
    "    confusion_matrix = np.zeros((len(pred_labels), len(true_labels)))\n",
    "    \n",
    "    for i, pred_label in enumerate(pred_labels):\n",
    "        for j, true_label in enumerate(true_labels):\n",
    "            confusion_matrix[i, j] = np.sum((y_pred == pred_label) & (y_true == true_label))\n",
    "    \n",
    "    # Apply Hungarian algorithm (minimize cost, so use negative of confusion matrix)\n",
    "    row_indices, col_indices = linear_sum_assignment(-confusion_matrix)\n",
    "    \n",
    "    # Create mapping from predicted labels to true labels\n",
    "    label_mapping = {}\n",
    "    for i, j in zip(row_indices, col_indices):\n",
    "        label_mapping[pred_labels[i]] = true_labels[j]\n",
    "    \n",
    "    # Apply mapping to predicted labels\n",
    "    y_pred_hungarianmatched = np.array([label_mapping[label] for label in y_pred])\n",
    "    \n",
    "    return y_pred_hungarianmatched\n",
    "\n",
    "umap_mapped = hungarian_matching(umap_labels,labels)\n",
    "print((sum(umap_mapped == labels)/len(labels)))"
   ]
  },
  {
   "cell_type": "code",
   "execution_count": 30,
   "id": "6713500e",
   "metadata": {},
   "outputs": [
    {
     "name": "stderr",
     "output_type": "stream",
     "text": [
      "  0%|          | 0/25 [00:00<?, ?it/s]"
     ]
    },
    {
     "name": "stderr",
     "output_type": "stream",
     "text": [
      "Pretraining Loss: 1.4685: 100%|██████████| 25/25 [00:25<00:00,  1.04s/it]\n"
     ]
    }
   ],
   "source": [
    "model = WarmStarter()\n",
    "device = 'cuda'\n",
    "model.to(device)\n",
    "optimizer = optim.Adam(model.parameters(),lr=0.0003)\n",
    "#pretraining batches\n",
    "umap_dataset = AugRepresentationDataset(aug,org,umap_labels)\n",
    "umap_dataloader = DataLoader(umap_dataset,batch_size=1000,shuffle=True)\n",
    "criterion = nn.CrossEntropyLoss()\n",
    "pretraining_loss = []\n",
    "#run 10 epochs\n",
    "progress_bar = tqdm.tqdm(range(25))\n",
    "for epoch in progress_bar:\n",
    "    temp_loss = []\n",
    "    \n",
    "    for (w1,w2,w,l) in umap_dataloader:\n",
    "        p = model(w1.to(device))\n",
    "        loss = criterion(p,l.to(device).long())\n",
    "        optimizer.zero_grad()\n",
    "        loss.backward()\n",
    "        optimizer.step()\n",
    "        temp_loss.append(loss.item())\n",
    "    \n",
    "    pretraining_loss.append(np.mean(temp_loss))\n",
    "    progress_bar.set_description(f\"Pretraining Loss: {pretraining_loss[-1]:.4f}\")\n"
   ]
  },
  {
   "cell_type": "code",
   "execution_count": 34,
   "id": "08f6b0f2",
   "metadata": {},
   "outputs": [
    {
     "name": "stdout",
     "output_type": "stream",
     "text": [
      "0.9612386386305357\n"
     ]
    }
   ],
   "source": [
    "\n",
    "umap_dataloader = DataLoader(umap_dataset,batch_size=1000,shuffle=False)\n",
    "predictions = []\n",
    "model.train()\n",
    "for (w1,w2,w,l) in umap_dataloader:\n",
    "    with torch.no_grad():\n",
    "        p = model(w.to(device))\n",
    "        \n",
    "        predictions.append(p.argmax(dim=1).cpu().numpy())\n",
    "\n",
    "predictions = np.concatenate(predictions)\n",
    "print(nmi(predictions,labels))"
   ]
  },
  {
   "cell_type": "code",
   "execution_count": 16,
   "id": "da113c9f",
   "metadata": {},
   "outputs": [],
   "source": [
    "\n",
    "def iic_loss(p1,p2,lamb=1.0,eps=1e-12,scaling=True):\n",
    "    \"\"\"\n",
    "    Args:\n",
    "        p1 (batch_size, num_clusters): logits 1\n",
    "        p2 (batch_size, num_clusters): logits 2\n",
    "    \"\"\"\n",
    "    p1,p2 = F.softmax(p1,dim=1),F.softmax(p2,dim=1)\n",
    "    \n",
    "    #joint probability dist\n",
    "    #P = (p1.unsqueeze(2) * p2.unsqueeze(1)).mean(dim=0)\n",
    "    P = 1/p1.shape[0] * p1.T @ p2\n",
    "\n",
    "    #marginal probabilities\n",
    "    P1 = p1.mean(dim=0).unsqueeze(1)\n",
    "    P2 = p2.mean(dim=0).unsqueeze(0)\n",
    "\n",
    "    #compute the mutual information\n",
    "    MI = (P * (torch.log(P + eps) - lamb * torch.log((P1+eps)*(P2+eps)))).sum()\n",
    "    if scaling:\n",
    "        k = p1.shape[1]\n",
    "        MI -= np.log(k)*(2*lamb-2)\n",
    "        MI /= (np.log(k))\n",
    "\n",
    "    return -MI\n",
    "\n",
    "\n",
    "\n",
    "def distribution_compression(x1,x2,p1,p2,tau=0.05,lamb=1.0,eps=1e-4):\n",
    "\n",
    "    Px = torch.exp((x1 @ x2.t()-1)/tau)\n",
    "    Qx = 1 - Px\n",
    "    Py = p1 @ p2.t()\n",
    "    Qy = 1 - Py\n",
    "\n",
    "    PlogP = -(Py*torch.log(Px+eps)).mean()\n",
    "    QlogQ = -(Qy*torch.log(Qx+eps)).mean()\n",
    "    \n",
    "    return PlogP + lamb * QlogQ"
   ]
  },
  {
   "cell_type": "code",
   "execution_count": 27,
   "id": "a1191090",
   "metadata": {},
   "outputs": [
    {
     "name": "stderr",
     "output_type": "stream",
     "text": [
      "  0%|          | 0/50 [00:00<?, ?it/s]"
     ]
    },
    {
     "name": "stdout",
     "output_type": "stream",
     "text": [
      "tensor(-0.0009, device='cuda:0', grad_fn=<NegBackward0>)\n",
      "tensor(-0.0009, device='cuda:0', grad_fn=<NegBackward0>)\n",
      "tensor(-0.0009, device='cuda:0', grad_fn=<NegBackward0>)\n",
      "tensor(-0.0009, device='cuda:0', grad_fn=<NegBackward0>)\n",
      "tensor(-0.0009, device='cuda:0', grad_fn=<NegBackward0>)\n",
      "tensor(-0.0009, device='cuda:0', grad_fn=<NegBackward0>)\n",
      "tensor(-0.0009, device='cuda:0', grad_fn=<NegBackward0>)\n",
      "tensor(-0.0009, device='cuda:0', grad_fn=<NegBackward0>)\n",
      "tensor(-0.0009, device='cuda:0', grad_fn=<NegBackward0>)\n",
      "tensor(-0.0009, device='cuda:0', grad_fn=<NegBackward0>)\n",
      "tensor(-0.0009, device='cuda:0', grad_fn=<NegBackward0>)\n",
      "tensor(-0.0009, device='cuda:0', grad_fn=<NegBackward0>)\n",
      "tensor(-0.0009, device='cuda:0', grad_fn=<NegBackward0>)\n",
      "tensor(-0.0009, device='cuda:0', grad_fn=<NegBackward0>)\n",
      "tensor(-0.0009, device='cuda:0', grad_fn=<NegBackward0>)\n",
      "tensor(-0.0009, device='cuda:0', grad_fn=<NegBackward0>)\n",
      "tensor(-0.0009, device='cuda:0', grad_fn=<NegBackward0>)\n",
      "tensor(-0.0009, device='cuda:0', grad_fn=<NegBackward0>)\n",
      "tensor(-0.0009, device='cuda:0', grad_fn=<NegBackward0>)\n",
      "tensor(-0.0009, device='cuda:0', grad_fn=<NegBackward0>)\n",
      "tensor(-0.0009, device='cuda:0', grad_fn=<NegBackward0>)\n",
      "tensor(-0.0009, device='cuda:0', grad_fn=<NegBackward0>)\n",
      "tensor(-0.0009, device='cuda:0', grad_fn=<NegBackward0>)\n",
      "tensor(-0.0009, device='cuda:0', grad_fn=<NegBackward0>)\n",
      "tensor(-0.0009, device='cuda:0', grad_fn=<NegBackward0>)\n",
      "tensor(-0.0009, device='cuda:0', grad_fn=<NegBackward0>)\n",
      "tensor(-0.0009, device='cuda:0', grad_fn=<NegBackward0>)\n",
      "tensor(-0.0009, device='cuda:0', grad_fn=<NegBackward0>)\n",
      "tensor(-0.0009, device='cuda:0', grad_fn=<NegBackward0>)\n",
      "tensor(-0.0009, device='cuda:0', grad_fn=<NegBackward0>)\n",
      "tensor(-0.0009, device='cuda:0', grad_fn=<NegBackward0>)\n",
      "tensor(-0.0009, device='cuda:0', grad_fn=<NegBackward0>)\n",
      "tensor(-0.0009, device='cuda:0', grad_fn=<NegBackward0>)\n",
      "tensor(-0.0009, device='cuda:0', grad_fn=<NegBackward0>)\n",
      "tensor(-0.0009, device='cuda:0', grad_fn=<NegBackward0>)\n",
      "tensor(-0.0009, device='cuda:0', grad_fn=<NegBackward0>)\n",
      "tensor(-0.0009, device='cuda:0', grad_fn=<NegBackward0>)\n",
      "tensor(-0.0009, device='cuda:0', grad_fn=<NegBackward0>)\n",
      "tensor(-0.0009, device='cuda:0', grad_fn=<NegBackward0>)\n",
      "tensor(-0.0009, device='cuda:0', grad_fn=<NegBackward0>)\n",
      "tensor(-0.0009, device='cuda:0', grad_fn=<NegBackward0>)\n"
     ]
    },
    {
     "name": "stderr",
     "output_type": "stream",
     "text": [
      "IIC Loss: -0.0009:   2%|▏         | 1/50 [00:01<01:13,  1.51s/it]"
     ]
    },
    {
     "name": "stdout",
     "output_type": "stream",
     "text": [
      "tensor(-0.0009, device='cuda:0', grad_fn=<NegBackward0>)\n",
      "tensor(-0.0009, device='cuda:0', grad_fn=<NegBackward0>)\n",
      "tensor(-0.0009, device='cuda:0', grad_fn=<NegBackward0>)\n",
      "tensor(-0.0009, device='cuda:0', grad_fn=<NegBackward0>)\n",
      "tensor(-0.0009, device='cuda:0', grad_fn=<NegBackward0>)\n",
      "tensor(-0.0009, device='cuda:0', grad_fn=<NegBackward0>)\n",
      "tensor(-0.0009, device='cuda:0', grad_fn=<NegBackward0>)\n",
      "tensor(-0.0009, device='cuda:0', grad_fn=<NegBackward0>)\n",
      "tensor(-0.0009, device='cuda:0', grad_fn=<NegBackward0>)\n",
      "tensor(-0.0009, device='cuda:0', grad_fn=<NegBackward0>)\n",
      "tensor(-0.0009, device='cuda:0', grad_fn=<NegBackward0>)\n",
      "tensor(-0.0009, device='cuda:0', grad_fn=<NegBackward0>)\n",
      "tensor(-0.0009, device='cuda:0', grad_fn=<NegBackward0>)\n",
      "tensor(-0.0009, device='cuda:0', grad_fn=<NegBackward0>)\n",
      "tensor(-0.0009, device='cuda:0', grad_fn=<NegBackward0>)\n",
      "tensor(-0.0009, device='cuda:0', grad_fn=<NegBackward0>)\n",
      "tensor(-0.0009, device='cuda:0', grad_fn=<NegBackward0>)\n",
      "tensor(-0.0009, device='cuda:0', grad_fn=<NegBackward0>)\n",
      "tensor(-0.0009, device='cuda:0', grad_fn=<NegBackward0>)\n",
      "tensor(-0.0009, device='cuda:0', grad_fn=<NegBackward0>)\n",
      "tensor(-0.0009, device='cuda:0', grad_fn=<NegBackward0>)\n",
      "tensor(-0.0009, device='cuda:0', grad_fn=<NegBackward0>)\n",
      "tensor(-0.0009, device='cuda:0', grad_fn=<NegBackward0>)\n",
      "tensor(-0.0009, device='cuda:0', grad_fn=<NegBackward0>)\n",
      "tensor(-0.0009, device='cuda:0', grad_fn=<NegBackward0>)\n",
      "tensor(-0.0009, device='cuda:0', grad_fn=<NegBackward0>)\n",
      "tensor(-0.0009, device='cuda:0', grad_fn=<NegBackward0>)\n",
      "tensor(-0.0009, device='cuda:0', grad_fn=<NegBackward0>)\n",
      "tensor(-0.0009, device='cuda:0', grad_fn=<NegBackward0>)\n",
      "tensor(-0.0009, device='cuda:0', grad_fn=<NegBackward0>)\n",
      "tensor(-0.0009, device='cuda:0', grad_fn=<NegBackward0>)\n",
      "tensor(-0.0009, device='cuda:0', grad_fn=<NegBackward0>)\n",
      "tensor(-0.0009, device='cuda:0', grad_fn=<NegBackward0>)\n",
      "tensor(-0.0009, device='cuda:0', grad_fn=<NegBackward0>)\n",
      "tensor(-0.0009, device='cuda:0', grad_fn=<NegBackward0>)\n",
      "tensor(-0.0009, device='cuda:0', grad_fn=<NegBackward0>)\n",
      "tensor(-0.0009, device='cuda:0', grad_fn=<NegBackward0>)\n",
      "tensor(-0.0009, device='cuda:0', grad_fn=<NegBackward0>)\n",
      "tensor(-0.0009, device='cuda:0', grad_fn=<NegBackward0>)\n",
      "tensor(-0.0009, device='cuda:0', grad_fn=<NegBackward0>)\n",
      "tensor(-0.0009, device='cuda:0', grad_fn=<NegBackward0>)\n",
      "tensor(-0.0009, device='cuda:0', grad_fn=<NegBackward0>)\n"
     ]
    },
    {
     "name": "stderr",
     "output_type": "stream",
     "text": [
      "IIC Loss: -0.0009:   4%|▍         | 2/50 [00:02<01:05,  1.37s/it]"
     ]
    },
    {
     "name": "stdout",
     "output_type": "stream",
     "text": [
      "tensor(-0.0009, device='cuda:0', grad_fn=<NegBackward0>)\n",
      "tensor(-0.0009, device='cuda:0', grad_fn=<NegBackward0>)\n",
      "tensor(-0.0009, device='cuda:0', grad_fn=<NegBackward0>)\n",
      "tensor(-0.0009, device='cuda:0', grad_fn=<NegBackward0>)\n",
      "tensor(-0.0009, device='cuda:0', grad_fn=<NegBackward0>)\n"
     ]
    },
    {
     "name": "stderr",
     "output_type": "stream",
     "text": [
      "\n"
     ]
    },
    {
     "ename": "KeyboardInterrupt",
     "evalue": "",
     "output_type": "error",
     "traceback": [
      "\u001b[0;31m---------------------------------------------------------------------------\u001b[0m",
      "\u001b[0;31mKeyboardInterrupt\u001b[0m                         Traceback (most recent call last)",
      "Cell \u001b[0;32mIn[27], line 6\u001b[0m\n\u001b[1;32m      4\u001b[0m \u001b[38;5;28;01mfor\u001b[39;00m epoch \u001b[38;5;129;01min\u001b[39;00m progress_bar:\n\u001b[1;32m      5\u001b[0m     temp_loss \u001b[38;5;241m=\u001b[39m []\n\u001b[0;32m----> 6\u001b[0m     \u001b[38;5;28;01mfor\u001b[39;00m w1,w2,w,l \u001b[38;5;129;01min\u001b[39;00m umap_dataloader:\n\u001b[1;32m      7\u001b[0m         p1 \u001b[38;5;241m=\u001b[39m model(w1\u001b[38;5;241m.\u001b[39mto(device))\n\u001b[1;32m      8\u001b[0m         p2 \u001b[38;5;241m=\u001b[39m model(w2\u001b[38;5;241m.\u001b[39mto(device))\n",
      "File \u001b[0;32m~/anaconda3/lib/python3.12/site-packages/torch/utils/data/dataloader.py:734\u001b[0m, in \u001b[0;36m_BaseDataLoaderIter.__next__\u001b[0;34m(self)\u001b[0m\n\u001b[1;32m    731\u001b[0m \u001b[38;5;28;01mif\u001b[39;00m \u001b[38;5;28mself\u001b[39m\u001b[38;5;241m.\u001b[39m_sampler_iter \u001b[38;5;129;01mis\u001b[39;00m \u001b[38;5;28;01mNone\u001b[39;00m:\n\u001b[1;32m    732\u001b[0m     \u001b[38;5;66;03m# TODO(https://github.com/pytorch/pytorch/issues/76750)\u001b[39;00m\n\u001b[1;32m    733\u001b[0m     \u001b[38;5;28mself\u001b[39m\u001b[38;5;241m.\u001b[39m_reset()  \u001b[38;5;66;03m# type: ignore[call-arg]\u001b[39;00m\n\u001b[0;32m--> 734\u001b[0m data \u001b[38;5;241m=\u001b[39m \u001b[38;5;28mself\u001b[39m\u001b[38;5;241m.\u001b[39m_next_data()\n\u001b[1;32m    735\u001b[0m \u001b[38;5;28mself\u001b[39m\u001b[38;5;241m.\u001b[39m_num_yielded \u001b[38;5;241m+\u001b[39m\u001b[38;5;241m=\u001b[39m \u001b[38;5;241m1\u001b[39m\n\u001b[1;32m    736\u001b[0m \u001b[38;5;28;01mif\u001b[39;00m (\n\u001b[1;32m    737\u001b[0m     \u001b[38;5;28mself\u001b[39m\u001b[38;5;241m.\u001b[39m_dataset_kind \u001b[38;5;241m==\u001b[39m _DatasetKind\u001b[38;5;241m.\u001b[39mIterable\n\u001b[1;32m    738\u001b[0m     \u001b[38;5;129;01mand\u001b[39;00m \u001b[38;5;28mself\u001b[39m\u001b[38;5;241m.\u001b[39m_IterableDataset_len_called \u001b[38;5;129;01mis\u001b[39;00m \u001b[38;5;129;01mnot\u001b[39;00m \u001b[38;5;28;01mNone\u001b[39;00m\n\u001b[1;32m    739\u001b[0m     \u001b[38;5;129;01mand\u001b[39;00m \u001b[38;5;28mself\u001b[39m\u001b[38;5;241m.\u001b[39m_num_yielded \u001b[38;5;241m>\u001b[39m \u001b[38;5;28mself\u001b[39m\u001b[38;5;241m.\u001b[39m_IterableDataset_len_called\n\u001b[1;32m    740\u001b[0m ):\n",
      "File \u001b[0;32m~/anaconda3/lib/python3.12/site-packages/torch/utils/data/dataloader.py:790\u001b[0m, in \u001b[0;36m_SingleProcessDataLoaderIter._next_data\u001b[0;34m(self)\u001b[0m\n\u001b[1;32m    788\u001b[0m \u001b[38;5;28;01mdef\u001b[39;00m \u001b[38;5;21m_next_data\u001b[39m(\u001b[38;5;28mself\u001b[39m):\n\u001b[1;32m    789\u001b[0m     index \u001b[38;5;241m=\u001b[39m \u001b[38;5;28mself\u001b[39m\u001b[38;5;241m.\u001b[39m_next_index()  \u001b[38;5;66;03m# may raise StopIteration\u001b[39;00m\n\u001b[0;32m--> 790\u001b[0m     data \u001b[38;5;241m=\u001b[39m \u001b[38;5;28mself\u001b[39m\u001b[38;5;241m.\u001b[39m_dataset_fetcher\u001b[38;5;241m.\u001b[39mfetch(index)  \u001b[38;5;66;03m# may raise StopIteration\u001b[39;00m\n\u001b[1;32m    791\u001b[0m     \u001b[38;5;28;01mif\u001b[39;00m \u001b[38;5;28mself\u001b[39m\u001b[38;5;241m.\u001b[39m_pin_memory:\n\u001b[1;32m    792\u001b[0m         data \u001b[38;5;241m=\u001b[39m _utils\u001b[38;5;241m.\u001b[39mpin_memory\u001b[38;5;241m.\u001b[39mpin_memory(data, \u001b[38;5;28mself\u001b[39m\u001b[38;5;241m.\u001b[39m_pin_memory_device)\n",
      "File \u001b[0;32m~/anaconda3/lib/python3.12/site-packages/torch/utils/data/_utils/fetch.py:52\u001b[0m, in \u001b[0;36m_MapDatasetFetcher.fetch\u001b[0;34m(self, possibly_batched_index)\u001b[0m\n\u001b[1;32m     50\u001b[0m         data \u001b[38;5;241m=\u001b[39m \u001b[38;5;28mself\u001b[39m\u001b[38;5;241m.\u001b[39mdataset\u001b[38;5;241m.\u001b[39m__getitems__(possibly_batched_index)\n\u001b[1;32m     51\u001b[0m     \u001b[38;5;28;01melse\u001b[39;00m:\n\u001b[0;32m---> 52\u001b[0m         data \u001b[38;5;241m=\u001b[39m [\u001b[38;5;28mself\u001b[39m\u001b[38;5;241m.\u001b[39mdataset[idx] \u001b[38;5;28;01mfor\u001b[39;00m idx \u001b[38;5;129;01min\u001b[39;00m possibly_batched_index]\n\u001b[1;32m     53\u001b[0m \u001b[38;5;28;01melse\u001b[39;00m:\n\u001b[1;32m     54\u001b[0m     data \u001b[38;5;241m=\u001b[39m \u001b[38;5;28mself\u001b[39m\u001b[38;5;241m.\u001b[39mdataset[possibly_batched_index]\n",
      "File \u001b[0;32m~/Documents/InformationHeuristic/src/datasets/dataset_wrappers.py:185\u001b[0m, in \u001b[0;36mAugRepresentationDataset.__getitem__\u001b[0;34m(self, index)\u001b[0m\n\u001b[1;32m    183\u001b[0m \u001b[38;5;28;01mdef\u001b[39;00m \u001b[38;5;21m__getitem__\u001b[39m(\u001b[38;5;28mself\u001b[39m,index):\n\u001b[1;32m    184\u001b[0m     \u001b[38;5;66;03m#randomly samples num_augs_return from the num_augs\u001b[39;00m\n\u001b[0;32m--> 185\u001b[0m     aug_indices \u001b[38;5;241m=\u001b[39m torch\u001b[38;5;241m.\u001b[39mrandperm(\u001b[38;5;28mself\u001b[39m\u001b[38;5;241m.\u001b[39mnum_augs)[:\u001b[38;5;28mself\u001b[39m\u001b[38;5;241m.\u001b[39mnum_augs_return]\n\u001b[1;32m    187\u001b[0m     original_sample \u001b[38;5;241m=\u001b[39m \u001b[38;5;28mself\u001b[39m\u001b[38;5;241m.\u001b[39moriginals[index]\n\u001b[1;32m    188\u001b[0m     label \u001b[38;5;241m=\u001b[39m \u001b[38;5;28mself\u001b[39m\u001b[38;5;241m.\u001b[39mlabels[index]\n",
      "\u001b[0;31mKeyboardInterrupt\u001b[0m: "
     ]
    }
   ],
   "source": [
    "iic_losses = [] \n",
    "progress_bar = tqdm.tqdm(range(50))\n",
    "umap_dataloader = DataLoader(umap_dataset,batch_size=1000,shuffle=True)\n",
    "for epoch in progress_bar:\n",
    "    temp_loss = []\n",
    "    for w1,w2,w,l in umap_dataloader:\n",
    "        p1 = model(w1.to(device))\n",
    "        p2 = model(w2.to(device))\n",
    "        loss = iic_loss(p1,p2,lamb=1.0)\n",
    "        print(loss)\n",
    "        optimizer.zero_grad()\n",
    "        loss.backward()\n",
    "        optimizer.step()\n",
    "        temp_loss.append(loss.item())\n",
    "    iic_losses.append(np.mean(temp_loss))\n",
    "    progress_bar.set_description(f\"IIC Loss: {iic_losses[-1]:.4f}\")\n",
    "    "
   ]
  },
  {
   "cell_type": "code",
   "execution_count": 28,
   "id": "380b9101",
   "metadata": {},
   "outputs": [
    {
     "data": {
      "text/plain": [
       "tensor([7.0085e-20, 4.1113e-19, 1.7329e-17, 8.4034e-27, 5.8317e-24, 1.0000e+00,\n",
       "        2.0896e-16, 5.0117e-25, 8.5955e-24, 1.8630e-22], device='cuda:0',\n",
       "       grad_fn=<SelectBackward0>)"
      ]
     },
     "execution_count": 28,
     "metadata": {},
     "output_type": "execute_result"
    }
   ],
   "source": [
    "p1[0]"
   ]
  },
  {
   "cell_type": "code",
   "execution_count": 29,
   "id": "177484a9",
   "metadata": {},
   "outputs": [
    {
     "name": "stdout",
     "output_type": "stream",
     "text": [
      "0.9558750264671436\n"
     ]
    }
   ],
   "source": [
    "\n",
    "umap_dataloader = DataLoader(umap_dataset,batch_size=1000,shuffle=False)\n",
    "predictions = []\n",
    "for (w1,w2,w,l) in umap_dataloader:\n",
    "    with torch.no_grad():\n",
    "        p = model(w.to(device))\n",
    "        predictions.append(p.argmax(dim=1).cpu().numpy())\n",
    "\n",
    "\n",
    "predictions = np.concatenate(predictions)\n",
    "print(nmi(predictions,labels))"
   ]
  },
  {
   "cell_type": "code",
   "execution_count": null,
   "id": "4c2f0930",
   "metadata": {},
   "outputs": [],
   "source": []
  }
 ],
 "metadata": {
  "kernelspec": {
   "display_name": "base",
   "language": "python",
   "name": "python3"
  },
  "language_info": {
   "codemirror_mode": {
    "name": "ipython",
    "version": 3
   },
   "file_extension": ".py",
   "mimetype": "text/x-python",
   "name": "python",
   "nbconvert_exporter": "python",
   "pygments_lexer": "ipython3",
   "version": "3.12.2"
  }
 },
 "nbformat": 4,
 "nbformat_minor": 5
}
