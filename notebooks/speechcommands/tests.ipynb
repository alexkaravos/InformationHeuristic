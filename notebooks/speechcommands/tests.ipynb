{
 "cells": [
  {
   "cell_type": "code",
   "execution_count": 1,
   "id": "c1cde398",
   "metadata": {},
   "outputs": [
    {
     "name": "stdout",
     "output_type": "stream",
     "text": [
      "/home/alex/Documents/InformationHeuristic/notebooks/speechcommands\n"
     ]
    },
    {
     "name": "stderr",
     "output_type": "stream",
     "text": [
      "/home/alex/anaconda3/lib/python3.12/site-packages/torchaudio/_backend/utils.py:213: UserWarning: In 2.9, this function's implementation will be changed to use torchaudio.load_with_torchcodec` under the hood. Some parameters like ``normalize``, ``format``, ``buffer_size``, and ``backend`` will be ignored. We recommend that you port your code to rely directly on TorchCodec's decoder instead: https://docs.pytorch.org/torchcodec/stable/generated/torchcodec.decoders.AudioDecoder.html#torchcodec.decoders.AudioDecoder.\n",
      "  warnings.warn(\n"
     ]
    }
   ],
   "source": [
    "import torch\n",
    "import sys\n",
    "sys.path.append('/home/alex/Documents/InformationHeuristic')\n",
    "import os\n",
    "print(os.getcwd())\n",
    "from src.datasets.datasets import speechcommands_dataset\n",
    "train,test,full = speechcommands_dataset('/home/alex/Documents/InformationHeuristic/data/speechcommands/')"
   ]
  },
  {
   "cell_type": "code",
   "execution_count": 2,
   "id": "699290ba",
   "metadata": {},
   "outputs": [],
   "source": [
    "import torch_audiomentations as audiomentations"
   ]
  },
  {
   "cell_type": "code",
   "execution_count": 15,
   "id": "4ace8183",
   "metadata": {},
   "outputs": [
    {
     "ename": "TypeError",
     "evalue": "Shift.__init__() got an unexpected keyword argument 'min_fraction'",
     "output_type": "error",
     "traceback": [
      "\u001b[0;31m---------------------------------------------------------------------------\u001b[0m",
      "\u001b[0;31mTypeError\u001b[0m                                 Traceback (most recent call last)",
      "Cell \u001b[0;32mIn[15], line 5\u001b[0m\n\u001b[1;32m      1\u001b[0m audio_transform \u001b[38;5;241m=\u001b[39m audiomentations\u001b[38;5;241m.\u001b[39mCompose([\n\u001b[1;32m      2\u001b[0m         audiomentations\u001b[38;5;241m.\u001b[39mHighPassFilter(min_cutoff_freq\u001b[38;5;241m=\u001b[39m\u001b[38;5;241m20.0\u001b[39m, max_cutoff_freq\u001b[38;5;241m=\u001b[39m\u001b[38;5;241m800.0\u001b[39m, p\u001b[38;5;241m=\u001b[39m\u001b[38;5;241m0.5\u001b[39m, sample_rate\u001b[38;5;241m=\u001b[39m\u001b[38;5;241m16000\u001b[39m,output_type\u001b[38;5;241m=\u001b[39m\u001b[38;5;124m\"\u001b[39m\u001b[38;5;124mtensor\u001b[39m\u001b[38;5;124m\"\u001b[39m),\n\u001b[1;32m      3\u001b[0m         audiomentations\u001b[38;5;241m.\u001b[39mLowPassFilter(min_cutoff_freq\u001b[38;5;241m=\u001b[39m\u001b[38;5;241m1200.0\u001b[39m, max_cutoff_freq\u001b[38;5;241m=\u001b[39m\u001b[38;5;241m8000.0\u001b[39m, p\u001b[38;5;241m=\u001b[39m\u001b[38;5;241m0.5\u001b[39m, sample_rate\u001b[38;5;241m=\u001b[39m\u001b[38;5;241m16000\u001b[39m,output_type\u001b[38;5;241m=\u001b[39m\u001b[38;5;124m\"\u001b[39m\u001b[38;5;124mtensor\u001b[39m\u001b[38;5;124m\"\u001b[39m),\n\u001b[1;32m      4\u001b[0m         audiomentations\u001b[38;5;241m.\u001b[39mPitchShift(min_transpose_semitones\u001b[38;5;241m=\u001b[39m\u001b[38;5;241m-\u001b[39m\u001b[38;5;241m2.0\u001b[39m, max_transpose_semitones\u001b[38;5;241m=\u001b[39m\u001b[38;5;241m2.0\u001b[39m, p\u001b[38;5;241m=\u001b[39m\u001b[38;5;241m0.5\u001b[39m, sample_rate\u001b[38;5;241m=\u001b[39m\u001b[38;5;241m16000\u001b[39m,output_type\u001b[38;5;241m=\u001b[39m\u001b[38;5;124m\"\u001b[39m\u001b[38;5;124mtensor\u001b[39m\u001b[38;5;124m\"\u001b[39m),\n\u001b[0;32m----> 5\u001b[0m         audiomentations\u001b[38;5;241m.\u001b[39mShift(min_fraction\u001b[38;5;241m=\u001b[39m\u001b[38;5;241m-\u001b[39m\u001b[38;5;241m0.1\u001b[39m, max_fraction\u001b[38;5;241m=\u001b[39m\u001b[38;5;241m0.1\u001b[39m, p\u001b[38;5;241m=\u001b[39m\u001b[38;5;241m0.5\u001b[39m, rollover\u001b[38;5;241m=\u001b[39m\u001b[38;5;28;01mFalse\u001b[39;00m, sample_rate\u001b[38;5;241m=\u001b[39m\u001b[38;5;241m16000\u001b[39m,output_type\u001b[38;5;241m=\u001b[39m\u001b[38;5;124m\"\u001b[39m\u001b[38;5;124mtensor\u001b[39m\u001b[38;5;124m\"\u001b[39m),\n\u001b[1;32m      6\u001b[0m         audiomentations\u001b[38;5;241m.\u001b[39mGain(min_gain_in_db\u001b[38;5;241m=\u001b[39m\u001b[38;5;241m-\u001b[39m\u001b[38;5;241m15.0\u001b[39m, max_gain_in_db\u001b[38;5;241m=\u001b[39m\u001b[38;5;241m5.0\u001b[39m, p\u001b[38;5;241m=\u001b[39m\u001b[38;5;241m0.5\u001b[39m, sample_rate\u001b[38;5;241m=\u001b[39m\u001b[38;5;241m16000\u001b[39m,output_type\u001b[38;5;241m=\u001b[39m\u001b[38;5;124m\"\u001b[39m\u001b[38;5;124mtensor\u001b[39m\u001b[38;5;124m\"\u001b[39m),\n\u001b[1;32m      7\u001b[0m         audiomentations\u001b[38;5;241m.\u001b[39mPolarityInversion(p\u001b[38;5;241m=\u001b[39m\u001b[38;5;241m0.5\u001b[39m, sample_rate\u001b[38;5;241m=\u001b[39m\u001b[38;5;241m16000\u001b[39m,output_type\u001b[38;5;241m=\u001b[39m\u001b[38;5;124m\"\u001b[39m\u001b[38;5;124mtensor\u001b[39m\u001b[38;5;124m\"\u001b[39m)]\n\u001b[1;32m      8\u001b[0m )\n",
      "\u001b[0;31mTypeError\u001b[0m: Shift.__init__() got an unexpected keyword argument 'min_fraction'"
     ]
    }
   ],
   "source": [
    "audio_transform = audiomentations.Compose([\n",
    "        audiomentations.HighPassFilter(min_cutoff_freq=20.0, max_cutoff_freq=800.0, p=0.5, sample_rate=16000,output_type=\"tensor\"),\n",
    "        audiomentations.LowPassFilter(min_cutoff_freq=1200.0, max_cutoff_freq=8000.0, p=0.5, sample_rate=16000,output_type=\"tensor\"),\n",
    "        audiomentations.PitchShift(min_transpose_semitones=-2.0, max_transpose_semitones=2.0, p=0.5, sample_rate=16000,output_type=\"tensor\"),\n",
    "        audiomentations.Shift(min_fraction=-0.1, max_fraction=0.1, p=0.5, rollover=False, sample_rate=16000,output_type=\"tensor\"),\n",
    "        audiomentations.Gain(min_gain_in_db=-15.0, max_gain_in_db=5.0, p=0.5, sample_rate=16000,output_type=\"tensor\"),\n",
    "        audiomentations.PolarityInversion(p=0.5, sample_rate=16000,output_type=\"tensor\")]\n",
    ")"
   ]
  },
  {
   "cell_type": "code",
   "execution_count": null,
   "id": "64e23b52",
   "metadata": {},
   "outputs": [],
   "source": [
    "audiomentations.Shift()"
   ]
  }
 ],
 "metadata": {
  "kernelspec": {
   "display_name": "base",
   "language": "python",
   "name": "python3"
  },
  "language_info": {
   "codemirror_mode": {
    "name": "ipython",
    "version": 3
   },
   "file_extension": ".py",
   "mimetype": "text/x-python",
   "name": "python",
   "nbconvert_exporter": "python",
   "pygments_lexer": "ipython3",
   "version": "3.12.2"
  }
 },
 "nbformat": 4,
 "nbformat_minor": 5
}
