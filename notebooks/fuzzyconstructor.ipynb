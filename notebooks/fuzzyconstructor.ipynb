{
 "cells": [
  {
   "cell_type": "code",
   "execution_count": 1,
   "id": "6eb73180",
   "metadata": {},
   "outputs": [],
   "source": [
    "import torch\n",
    "from torch.utils.data import DataLoader,TensorDataset\n",
    "import numpy as np\n",
    "import matplotlib.pyplot as plt\n",
    "import seaborn as sns\n",
    "import sys\n",
    "sys.path.append(\"..\")\n",
    "from torch import nn, optim\n",
    "from torch.nn import functional as F\n",
    "from src.datasets.dataset_wrappers import AugRepresentationDataset\n",
    "from IPython.display import display,clear_output\n",
    "import tqdm\n",
    "from sklearn.metrics import normalized_mutual_info_score as nmi\n",
    "import umap"
   ]
  },
  {
   "cell_type": "code",
   "execution_count": 2,
   "id": "6542503e",
   "metadata": {},
   "outputs": [],
   "source": [
    "#import the data\n",
    "org = torch.load(\"../originals.pt\")\n",
    "aug = torch.load(\"../augmentations.pt\")\n",
    "labels = torch.load(\"../labels.pt\")\n",
    "nn_indices = torch.load(\"../nn_indices.pt\")\n",
    "dataset = AugRepresentationDataset(aug,org,labels)\n",
    "org_norm = F.normalize(org,p=2,dim=-1)\n"
   ]
  },
  {
   "cell_type": "code",
   "execution_count": 7,
   "id": "b4ff4242",
   "metadata": {},
   "outputs": [
    {
     "name": "stderr",
     "output_type": "stream",
     "text": [
      "/home/alex/anaconda3/lib/python3.12/site-packages/umap/umap_.py:1945: UserWarning: n_jobs value 1 overridden to 1 by setting random_state. Use no seed for parallelism.\n",
      "  warn(f\"n_jobs value {self.n_jobs} overridden to 1 by setting random_state. Use no seed for parallelism.\")\n"
     ]
    }
   ],
   "source": [
    "reducer = umap.UMAP(n_components=2,random_state=42,metric=\"cosine\")\n",
    "emb = reducer.fit_transform(org)"
   ]
  },
  {
   "cell_type": "code",
   "execution_count": 127,
   "id": "4d751b66",
   "metadata": {},
   "outputs": [],
   "source": [
    "\n",
    "class FuzzyConstructor(nn.Module):\n",
    "    \"\"\"\n",
    "    A model to compute a pairwise likeness matrix using a single\n",
    "    scaled dot-product attention mechanism.\n",
    "\n",
    "    This model computes the relationship between every pair of n input\n",
    "    representations without creating n*n pairs explicitly. It outputs a\n",
    "    matrix of logits suitable for a pairwise binary classification task.\n",
    "    \"\"\"\n",
    "    def __init__(self, d_model=512, nhead=16):\n",
    "        \"\"\"\n",
    "        Args:\n",
    "            d_model (int): The feature dimension of the input representations (e.g., 512).\n",
    "            nhead (int): The number of attention heads. d_model must be divisible by nhead.\n",
    "        \"\"\"\n",
    "        super().__init__()\n",
    "\n",
    "        self.d_model = d_model\n",
    "        self.nhead = nhead\n",
    "        self.head_dim = d_model // nhead\n",
    "        if self.head_dim * nhead != self.d_model:\n",
    "            raise ValueError(\"d_model must be divisible by nhead\")\n",
    "\n",
    "        # Linear projections for Query and Key\n",
    "        self.q_proj = nn.Linear(d_model, d_model)\n",
    "        self.k_proj = nn.Linear(d_model, d_model)\n",
    "\n",
    "        # Scaling factor for dot-product attention\n",
    "        self.scale = self.head_dim ** -0.5\n",
    "\n",
    "    def forward(self, src):\n",
    "        \"\"\"\n",
    "        Forward pass to compute the pairwise likeness matrix.\n",
    "\n",
    "        Args:\n",
    "            src (torch.Tensor): A tensor of n representations, shape (n, d_model).\n",
    "\n",
    "        Returns:\n",
    "            torch.Tensor: An (n, n) matrix of raw likeness scores (logits).\n",
    "        \"\"\"\n",
    "        # Add a batch dimension of 1 for consistent processing\n",
    "        # Input shape: (n, d_model) -> (1, n, d_model)\n",
    "        src_batched = src.unsqueeze(0)\n",
    "        n = src.shape[0]\n",
    "\n",
    "        # Project the representations into Query and Key vectors\n",
    "        # Input shape: (1, n, d_model)\n",
    "        q = self.q_proj(src_batched)\n",
    "        k = self.k_proj(src_batched)\n",
    "\n",
    "        # Reshape for multi-head attention calculation\n",
    "        # Shape: (1, n, d_model) -> (1, n, nhead, head_dim) -> (1, nhead, n, head_dim)\n",
    "        q = q.view(1, n, self.nhead, self.head_dim).transpose(1, 2)\n",
    "        k = k.view(1, n, self.nhead, self.head_dim).transpose(1, 2)\n",
    "\n",
    "        # Perform scaled dot-product attention\n",
    "        # (1, nhead, n, head_dim) @ (1, nhead, head_dim, n) -> (1, nhead, n, n)\n",
    "        attn_scores = (q @ k.transpose(-2, -1)) * self.scale\n",
    "\n",
    "        # Average the scores across all heads to get a single likeness matrix\n",
    "        # Shape: (1, nhead, n, n) -> (1, n, n)\n",
    "        likeness_matrix = attn_scores.mean(dim=1)\n",
    "\n",
    "        # Remove the batch dimension\n",
    "        # Shape: (1, n, n) -> (n, n)\n",
    "        return likeness_matrix.squeeze(0)\n",
    "\n",
    "\n",
    "class PairwiseAttention(nn.Module):\n",
    "    def __init__(self, d_model, nhead, d_ffn=2048, dropout=0.1):\n",
    "        super().__init__()\n",
    "\n",
    "        self.d_model = d_model\n",
    "        self.nhead = nhead\n",
    "        self.head_dim = d_model // nhead\n",
    "        if self.head_dim * nhead != self.d_model:\n",
    "            raise ValueError(\"d_model must be divisible by nhead\")\n",
    "\n",
    "        self.feed_forward = nn.Sequential(\n",
    "            nn.Linear(d_model, d_ffn),\n",
    "            nn.ReLU(),\n",
    "            nn.Dropout(dropout),\n",
    "            nn.Linear(d_ffn, d_model)\n",
    "        )\n",
    "        \n",
    "        self.norm = nn.LayerNorm(d_model)\n",
    "        self.dropout = nn.Dropout(dropout)\n",
    "        self.projection = nn.Linear(d_model, d_model)\n",
    "        self.scale = self.head_dim ** -0.5\n",
    "\n",
    "    def forward(self, src):\n",
    "        # Add residual connection and layer normalization\n",
    "        refined_src = self.norm(src + self.dropout(self.feed_forward(src)))\n",
    "        \n",
    "        src_batched = refined_src.unsqueeze(0)\n",
    "        n = src.shape[0]\n",
    "\n",
    "        q = self.projection(src_batched)\n",
    "        k = self.projection(src_batched)\n",
    "\n",
    "        q = q.view(1, n, self.nhead, self.head_dim).transpose(1, 2)\n",
    "        k = k.view(1, n, self.nhead, self.head_dim).transpose(1, 2)\n",
    "\n",
    "        attn_scores = (q @ k.transpose(-2, -1)) * self.scale\n",
    "        likeness_matrix = attn_scores.mean(dim=1)\n",
    "\n",
    "        return likeness_matrix.squeeze(0)\n",
    "\n"
   ]
  },
  {
   "cell_type": "code",
   "execution_count": 167,
   "id": "2bee9e39",
   "metadata": {},
   "outputs": [
    {
     "data": {
      "text/plain": [
       "FuzzyConstructor(\n",
       "  (q_proj): Linear(in_features=512, out_features=512, bias=True)\n",
       "  (k_proj): Linear(in_features=512, out_features=512, bias=True)\n",
       ")"
      ]
     },
     "execution_count": 167,
     "metadata": {},
     "output_type": "execute_result"
    }
   ],
   "source": [
    "model = FuzzyConstructor()\n",
    "device = 'cuda'\n",
    "model.to(device)\n",
    "optimizer = optim.Adam(model.parameters(),lr=0.001)\n",
    "criterion = nn.BCEWithLogitsLoss(pos_weight=torch.tensor([100]))\n",
    "model.train()"
   ]
  },
  {
   "cell_type": "code",
   "execution_count": 200,
   "id": "ca64e093",
   "metadata": {},
   "outputs": [
    {
     "data": {
      "application/vnd.jupyter.widget-view+json": {
       "model_id": "39532ac639914afdaff148c7b875a449",
       "version_major": 2,
       "version_minor": 0
      },
      "text/plain": [
       "  0%|          | 0/50 [00:00<?, ?it/s]"
      ]
     },
     "metadata": {},
     "output_type": "display_data"
    },
    {
     "ename": "KeyboardInterrupt",
     "evalue": "",
     "output_type": "error",
     "traceback": [
      "\u001b[0;31m---------------------------------------------------------------------------\u001b[0m",
      "\u001b[0;31mKeyboardInterrupt\u001b[0m                         Traceback (most recent call last)",
      "Cell \u001b[0;32mIn[200], line 8\u001b[0m\n\u001b[1;32m      6\u001b[0m progress_bar \u001b[38;5;241m=\u001b[39m tqdm\u001b[38;5;241m.\u001b[39mnotebook\u001b[38;5;241m.\u001b[39mtrange(\u001b[38;5;241m50\u001b[39m)\n\u001b[1;32m      7\u001b[0m \u001b[38;5;28;01mfor\u001b[39;00m epoch \u001b[38;5;129;01min\u001b[39;00m progress_bar:\n\u001b[0;32m----> 8\u001b[0m     \u001b[38;5;28;01mfor\u001b[39;00m batch \u001b[38;5;129;01min\u001b[39;00m dataloader:\n\u001b[1;32m     10\u001b[0m         x1,x2,x,y \u001b[38;5;241m=\u001b[39m batch\n\u001b[1;32m     11\u001b[0m         n,d \u001b[38;5;241m=\u001b[39m x1\u001b[38;5;241m.\u001b[39mshape\n",
      "File \u001b[0;32m~/anaconda3/lib/python3.12/site-packages/torch/utils/data/dataloader.py:734\u001b[0m, in \u001b[0;36m_BaseDataLoaderIter.__next__\u001b[0;34m(self)\u001b[0m\n\u001b[1;32m    731\u001b[0m \u001b[38;5;28;01mif\u001b[39;00m \u001b[38;5;28mself\u001b[39m\u001b[38;5;241m.\u001b[39m_sampler_iter \u001b[38;5;129;01mis\u001b[39;00m \u001b[38;5;28;01mNone\u001b[39;00m:\n\u001b[1;32m    732\u001b[0m     \u001b[38;5;66;03m# TODO(https://github.com/pytorch/pytorch/issues/76750)\u001b[39;00m\n\u001b[1;32m    733\u001b[0m     \u001b[38;5;28mself\u001b[39m\u001b[38;5;241m.\u001b[39m_reset()  \u001b[38;5;66;03m# type: ignore[call-arg]\u001b[39;00m\n\u001b[0;32m--> 734\u001b[0m data \u001b[38;5;241m=\u001b[39m \u001b[38;5;28mself\u001b[39m\u001b[38;5;241m.\u001b[39m_next_data()\n\u001b[1;32m    735\u001b[0m \u001b[38;5;28mself\u001b[39m\u001b[38;5;241m.\u001b[39m_num_yielded \u001b[38;5;241m+\u001b[39m\u001b[38;5;241m=\u001b[39m \u001b[38;5;241m1\u001b[39m\n\u001b[1;32m    736\u001b[0m \u001b[38;5;28;01mif\u001b[39;00m (\n\u001b[1;32m    737\u001b[0m     \u001b[38;5;28mself\u001b[39m\u001b[38;5;241m.\u001b[39m_dataset_kind \u001b[38;5;241m==\u001b[39m _DatasetKind\u001b[38;5;241m.\u001b[39mIterable\n\u001b[1;32m    738\u001b[0m     \u001b[38;5;129;01mand\u001b[39;00m \u001b[38;5;28mself\u001b[39m\u001b[38;5;241m.\u001b[39m_IterableDataset_len_called \u001b[38;5;129;01mis\u001b[39;00m \u001b[38;5;129;01mnot\u001b[39;00m \u001b[38;5;28;01mNone\u001b[39;00m\n\u001b[1;32m    739\u001b[0m     \u001b[38;5;129;01mand\u001b[39;00m \u001b[38;5;28mself\u001b[39m\u001b[38;5;241m.\u001b[39m_num_yielded \u001b[38;5;241m>\u001b[39m \u001b[38;5;28mself\u001b[39m\u001b[38;5;241m.\u001b[39m_IterableDataset_len_called\n\u001b[1;32m    740\u001b[0m ):\n",
      "File \u001b[0;32m~/anaconda3/lib/python3.12/site-packages/torch/utils/data/dataloader.py:790\u001b[0m, in \u001b[0;36m_SingleProcessDataLoaderIter._next_data\u001b[0;34m(self)\u001b[0m\n\u001b[1;32m    788\u001b[0m \u001b[38;5;28;01mdef\u001b[39;00m \u001b[38;5;21m_next_data\u001b[39m(\u001b[38;5;28mself\u001b[39m):\n\u001b[1;32m    789\u001b[0m     index \u001b[38;5;241m=\u001b[39m \u001b[38;5;28mself\u001b[39m\u001b[38;5;241m.\u001b[39m_next_index()  \u001b[38;5;66;03m# may raise StopIteration\u001b[39;00m\n\u001b[0;32m--> 790\u001b[0m     data \u001b[38;5;241m=\u001b[39m \u001b[38;5;28mself\u001b[39m\u001b[38;5;241m.\u001b[39m_dataset_fetcher\u001b[38;5;241m.\u001b[39mfetch(index)  \u001b[38;5;66;03m# may raise StopIteration\u001b[39;00m\n\u001b[1;32m    791\u001b[0m     \u001b[38;5;28;01mif\u001b[39;00m \u001b[38;5;28mself\u001b[39m\u001b[38;5;241m.\u001b[39m_pin_memory:\n\u001b[1;32m    792\u001b[0m         data \u001b[38;5;241m=\u001b[39m _utils\u001b[38;5;241m.\u001b[39mpin_memory\u001b[38;5;241m.\u001b[39mpin_memory(data, \u001b[38;5;28mself\u001b[39m\u001b[38;5;241m.\u001b[39m_pin_memory_device)\n",
      "File \u001b[0;32m~/anaconda3/lib/python3.12/site-packages/torch/utils/data/_utils/fetch.py:52\u001b[0m, in \u001b[0;36m_MapDatasetFetcher.fetch\u001b[0;34m(self, possibly_batched_index)\u001b[0m\n\u001b[1;32m     50\u001b[0m         data \u001b[38;5;241m=\u001b[39m \u001b[38;5;28mself\u001b[39m\u001b[38;5;241m.\u001b[39mdataset\u001b[38;5;241m.\u001b[39m__getitems__(possibly_batched_index)\n\u001b[1;32m     51\u001b[0m     \u001b[38;5;28;01melse\u001b[39;00m:\n\u001b[0;32m---> 52\u001b[0m         data \u001b[38;5;241m=\u001b[39m [\u001b[38;5;28mself\u001b[39m\u001b[38;5;241m.\u001b[39mdataset[idx] \u001b[38;5;28;01mfor\u001b[39;00m idx \u001b[38;5;129;01min\u001b[39;00m possibly_batched_index]\n\u001b[1;32m     53\u001b[0m \u001b[38;5;28;01melse\u001b[39;00m:\n\u001b[1;32m     54\u001b[0m     data \u001b[38;5;241m=\u001b[39m \u001b[38;5;28mself\u001b[39m\u001b[38;5;241m.\u001b[39mdataset[possibly_batched_index]\n",
      "File \u001b[0;32m~/Documents/InformationHeuristic/src/datasets/dataset_wrappers.py:189\u001b[0m, in \u001b[0;36mAugRepresentationDataset.__getitem__\u001b[0;34m(self, index)\u001b[0m\n\u001b[1;32m    187\u001b[0m original_sample \u001b[38;5;241m=\u001b[39m \u001b[38;5;28mself\u001b[39m\u001b[38;5;241m.\u001b[39moriginals[index]\n\u001b[1;32m    188\u001b[0m label \u001b[38;5;241m=\u001b[39m \u001b[38;5;28mself\u001b[39m\u001b[38;5;241m.\u001b[39mlabels[index]\n\u001b[0;32m--> 189\u001b[0m augs \u001b[38;5;241m=\u001b[39m [\u001b[38;5;28mself\u001b[39m\u001b[38;5;241m.\u001b[39maugmentations[index,i] \u001b[38;5;28;01mfor\u001b[39;00m i \u001b[38;5;129;01min\u001b[39;00m aug_indices]\n\u001b[1;32m    191\u001b[0m \u001b[38;5;28;01mreturn\u001b[39;00m (\u001b[38;5;241m*\u001b[39maugs,original_sample,label)\n",
      "File \u001b[0;32m~/anaconda3/lib/python3.12/site-packages/torch/_tensor.py:1176\u001b[0m, in \u001b[0;36mTensor.__iter__\u001b[0;34m(self)\u001b[0m\n\u001b[1;32m   1166\u001b[0m         warnings\u001b[38;5;241m.\u001b[39mwarn(\n\u001b[1;32m   1167\u001b[0m             \u001b[38;5;124m\"\u001b[39m\u001b[38;5;124mUsing len to get tensor shape might cause the trace to be incorrect. \u001b[39m\u001b[38;5;124m\"\u001b[39m\n\u001b[1;32m   1168\u001b[0m             \u001b[38;5;124m\"\u001b[39m\u001b[38;5;124mRecommended usage would be tensor.shape[0]. \u001b[39m\u001b[38;5;124m\"\u001b[39m\n\u001b[0;32m   (...)\u001b[0m\n\u001b[1;32m   1172\u001b[0m             stacklevel\u001b[38;5;241m=\u001b[39m\u001b[38;5;241m2\u001b[39m,\n\u001b[1;32m   1173\u001b[0m         )\n\u001b[1;32m   1174\u001b[0m     \u001b[38;5;28;01mreturn\u001b[39;00m \u001b[38;5;28mself\u001b[39m\u001b[38;5;241m.\u001b[39mshape[\u001b[38;5;241m0\u001b[39m]\n\u001b[0;32m-> 1176\u001b[0m \u001b[38;5;28;01mdef\u001b[39;00m \u001b[38;5;21m__iter__\u001b[39m(\u001b[38;5;28mself\u001b[39m):\n\u001b[1;32m   1177\u001b[0m     \u001b[38;5;66;03m# NB: we use 'imap' and not 'map' here, so that in Python 2 we get a\u001b[39;00m\n\u001b[1;32m   1178\u001b[0m     \u001b[38;5;66;03m# generator and don't eagerly perform all the indexes.  This could\u001b[39;00m\n\u001b[1;32m   1179\u001b[0m     \u001b[38;5;66;03m# save us work, and also helps keep trace ordering deterministic\u001b[39;00m\n\u001b[1;32m   1180\u001b[0m     \u001b[38;5;66;03m# (e.g., if you zip(*hiddens), the eager map will force all the\u001b[39;00m\n\u001b[1;32m   1181\u001b[0m     \u001b[38;5;66;03m# indexes of hiddens[0] before hiddens[1], while the generator\u001b[39;00m\n\u001b[1;32m   1182\u001b[0m     \u001b[38;5;66;03m# map will interleave them.)\u001b[39;00m\n\u001b[1;32m   1183\u001b[0m     \u001b[38;5;66;03m# NB: We have intentionally skipped __torch_function__ dispatch here.\u001b[39;00m\n\u001b[1;32m   1184\u001b[0m     \u001b[38;5;66;03m# See gh-54457\u001b[39;00m\n\u001b[1;32m   1185\u001b[0m     \u001b[38;5;28;01mif\u001b[39;00m \u001b[38;5;28mself\u001b[39m\u001b[38;5;241m.\u001b[39mdim() \u001b[38;5;241m==\u001b[39m \u001b[38;5;241m0\u001b[39m:\n\u001b[1;32m   1186\u001b[0m         \u001b[38;5;28;01mraise\u001b[39;00m \u001b[38;5;167;01mTypeError\u001b[39;00m(\u001b[38;5;124m\"\u001b[39m\u001b[38;5;124miteration over a 0-d tensor\u001b[39m\u001b[38;5;124m\"\u001b[39m)\n",
      "\u001b[0;31mKeyboardInterrupt\u001b[0m: "
     ]
    }
   ],
   "source": [
    "losses = []\n",
    "num_negative = 50\n",
    "pos_losses = []\n",
    "neg_losses = []\n",
    "dataloader = DataLoader(dataset,batch_size=500,shuffle=True)\n",
    "progress_bar = tqdm.notebook.trange(50)\n",
    "for epoch in progress_bar:\n",
    "    for batch in dataloader:\n",
    "        \n",
    "        x1,x2,x,y = batch\n",
    "        n,d = x1.shape\n",
    "        targets = torch.zeros(n,n)\n",
    "        targets[torch.eye(n).bool()] = 1\n",
    "\n",
    "        # The target matrix is [[0, I], [I, 0]]\n",
    "        # where I is the n x n identity matrix.\n",
    "        identity_n = torch.eye(n, device=device)\n",
    "        \n",
    "        top_row = torch.cat([identity_n, identity_n], dim=1)\n",
    "        bottom_row = torch.cat([identity_n, identity_n], dim=1)\n",
    "        targets = torch.cat([top_row, bottom_row], dim=0).to(device)\n",
    "\n",
    "\n",
    "        # Concatenate the two sets of augmentations\n",
    "        X = torch.cat([x, x2], dim=0).to(device)\n",
    "        \n",
    "        # --- Model Prediction and Loss ---\n",
    "        pred_logits = model(X)\n",
    "        \n",
    "        # Use BCEWithLogitsLoss for numerical stability\n",
    "        criterion = nn.BCEWithLogitsLoss()\n",
    "        \n",
    "        loss = criterion(pred_logits, targets)\n",
    "\n",
    "        losses.append(loss.item())\n",
    "        optimizer.zero_grad()\n",
    "        loss.backward()\n",
    "        optimizer.step()\n",
    "\n",
    "    progress_bar.set_description(f\"Epoch {epoch}, Loss: {losses[-1]:.4f}\")\n",
    "        "
   ]
  },
  {
   "cell_type": "code",
   "execution_count": 201,
   "id": "ab3e3e5f",
   "metadata": {},
   "outputs": [
    {
     "data": {
      "text/plain": [
       "(tensor(0.5328, device='cuda:0', grad_fn=<MeanBackward0>),\n",
       " tensor(0.0011, device='cuda:0', grad_fn=<MeanBackward0>))"
      ]
     },
     "execution_count": 201,
     "metadata": {},
     "output_type": "execute_result"
    }
   ],
   "source": [
    "#get the off diag positives\n",
    "like_samples = targets.clone()\n",
    "like_samples[torch.eye(2*n).bool()] = 0\n",
    "\n",
    "F.sigmoid(pred_logits[targets.bool()]).mean(),F.sigmoid(pred_logits[~targets.bool()]).mean()"
   ]
  },
  {
   "cell_type": "code",
   "execution_count": 216,
   "id": "946ee38d",
   "metadata": {},
   "outputs": [],
   "source": [
    "X_norm = F.normalize(X,p=2,dim=-1)\n",
    "sims = X_norm @ X_norm.T"
   ]
  },
  {
   "cell_type": "code",
   "execution_count": 204,
   "id": "b5278f72",
   "metadata": {},
   "outputs": [
    {
     "data": {
      "text/plain": [
       "<Axes: >"
      ]
     },
     "execution_count": 204,
     "metadata": {},
     "output_type": "execute_result"
    },
    {
     "data": {
      "image/png": "[encoded data removed]",
      "text/plain": [
       "<Figure size 640x480 with 1 Axes>"
      ]
     },
     "metadata": {},
     "output_type": "display_data"
    }
   ],
   "source": [
    "sns.scatterplot(x=sims.flatten().detach().cpu().numpy(),y=F.sigmoid(pred_logits).flatten().detach().cpu().numpy(),alpha=0.01)"
   ]
  },
  {
   "cell_type": "code",
   "execution_count": 217,
   "id": "70ebab99",
   "metadata": {},
   "outputs": [],
   "source": [
    "p = pred_logits.detach().cpu()\n",
    "psort = torch.argsort(p,dim=1,descending=True)\n",
    "simsort = torch.argsort(sims,dim=1,descending=True).cpu().detach()"
   ]
  },
  {
   "cell_type": "code",
   "execution_count": 218,
   "id": "c4483bd4",
   "metadata": {},
   "outputs": [
    {
     "data": {
      "text/plain": [
       "torch.Size([1000, 1000])"
      ]
     },
     "execution_count": 218,
     "metadata": {},
     "output_type": "execute_result"
    }
   ],
   "source": [
    "Y = torch.cat([y,y],dim=0)\n",
    "psort.shape"
   ]
  },
  {
   "cell_type": "code",
   "execution_count": 219,
   "id": "9340c64b",
   "metadata": {},
   "outputs": [
    {
     "data": {
      "text/plain": [
       "tensor([[  0, 500, 690,  ..., 928, 428,  20],\n",
       "        [  1,   2, 501,  ..., 199, 264, 251],\n",
       "        [  2,   1, 836,  ..., 251, 264, 199],\n",
       "        ...,\n",
       "        [997, 654, 534,  ...,  70, 300, 453],\n",
       "        [998, 877, 854,  ..., 298, 543,  70],\n",
       "        [999, 499, 686,  ...,  89, 300, 272]])"
      ]
     },
     "execution_count": 219,
     "metadata": {},
     "output_type": "execute_result"
    }
   ],
   "source": [
    "psort"
   ]
  },
  {
   "cell_type": "code",
   "execution_count": 224,
   "id": "1596df8f",
   "metadata": {},
   "outputs": [
    {
     "data": {
      "text/plain": [
       "(tensor(0.0100), tensor(0.0052))"
      ]
     },
     "execution_count": 224,
     "metadata": {},
     "output_type": "execute_result"
    }
   ],
   "source": [
    "k=500\n",
    "(Y[psort][:,k:] == Y.unsqueeze(1)).sum()/(Y.shape[0]*k),(Y[simsort][:,k:] == Y.unsqueeze(1)).sum()/(Y.shape[0]*k)"
   ]
  },
  {
   "cell_type": "code",
   "execution_count": null,
   "id": "4587765a",
   "metadata": {},
   "outputs": [
    {
     "data": {
      "text/plain": [
       "tensor(80)"
      ]
     },
     "execution_count": 115,
     "metadata": {},
     "output_type": "execute_result"
    }
   ],
   "source": []
  },
  {
   "cell_type": "code",
   "execution_count": null,
   "id": "a4330fe2",
   "metadata": {},
   "outputs": [
    {
     "data": {
      "text/plain": [
       "tensor([0, 0, 4, 9, 1, 8, 8, 0, 3, 0, 9, 8, 0, 9, 6, 1, 6, 5, 5, 5, 4, 9, 1, 8,\n",
       "        4, 0, 8, 2, 1, 0, 6, 2, 0, 8, 0, 6, 8, 2, 6, 0, 8, 8, 4, 3, 0, 5, 0, 4,\n",
       "        4, 5, 2, 6, 1, 1, 9, 9, 8, 9, 9, 0, 1, 0, 9, 8, 8, 9, 8, 1, 2, 6, 0, 9,\n",
       "        9, 9, 0, 8, 8, 2, 8, 7, 9, 9, 4, 8, 8, 2, 7, 2, 8, 6, 0, 4, 9, 5, 5, 4,\n",
       "        9, 3, 5, 0, 0, 6, 9, 4, 4, 2, 1, 0, 0, 3, 5, 3, 0, 4, 2, 2, 8, 6, 2, 6,\n",
       "        9, 0, 7, 4, 9, 6, 6, 0, 5, 8, 1, 3, 8, 8, 9, 9, 1, 2, 0, 9, 0, 6, 7, 9,\n",
       "        0, 2, 1, 5, 8, 1, 8, 7, 9, 5, 1, 6, 8, 0, 9, 1, 0, 0, 8, 9, 6, 0, 9, 8,\n",
       "        5, 8, 3, 1, 8, 8, 3, 1, 1, 6, 1, 4, 9, 6, 2, 2, 3, 8, 9, 4, 4, 2, 4, 9,\n",
       "        0, 0, 5, 0, 2, 1, 2, 5, 6, 8, 6, 1, 5, 3, 4, 5, 4, 7, 7, 5, 4, 9, 0, 0,\n",
       "        5, 9, 9, 8, 0, 5, 7, 8, 0, 9, 9, 0, 9, 9, 4, 2, 2, 8, 5, 6, 0, 6, 2, 3,\n",
       "        8, 3, 8, 3, 2, 8, 9, 8, 6, 5, 9, 6, 6, 5, 0, 0, 4, 0, 6, 8, 1, 9, 8, 2,\n",
       "        5, 8, 5, 9, 6, 0, 2, 6, 6, 9, 2, 4, 9, 9, 8, 4, 0, 7, 0, 2, 0, 0, 1, 9,\n",
       "        1, 1, 5, 2, 8, 5, 9, 5, 8, 5, 8, 2, 2, 0, 8, 8, 1, 9, 5, 9, 3, 1, 9, 5,\n",
       "        1, 0, 6, 5, 0, 5, 5, 4, 9, 3, 4, 2, 6, 0, 3, 2, 3, 1, 6, 0, 7, 8, 8, 9,\n",
       "        8, 6, 8, 5, 4, 9, 2, 0, 0, 9, 8, 8, 9, 9, 9, 0, 0, 6, 1, 2, 3, 4, 2, 8,\n",
       "        2, 7, 4, 9, 9, 0, 9, 2, 5, 0, 1, 1, 2, 4, 2, 0, 4, 6, 5, 9, 5, 1, 6, 4,\n",
       "        6, 0, 8, 4, 9, 5, 2, 2, 0, 0, 0, 5, 9, 9, 8, 5, 5, 6, 8, 5, 8, 8, 1, 9,\n",
       "        9, 4, 0, 1, 8, 8, 9, 2, 1, 4, 4, 7, 3, 1, 0, 7, 0, 8, 5, 2, 9, 6, 1, 0,\n",
       "        4, 9, 7, 3, 4, 1, 0, 8, 4, 2, 8, 8, 2, 1, 4, 4, 4, 5, 6, 0, 2, 8, 6, 1,\n",
       "        8, 5, 9, 9, 4, 4, 5, 0, 9, 0, 2, 9, 9, 9, 2, 9, 8, 4, 8, 0, 0, 8, 6, 0,\n",
       "        2, 5, 8, 0, 0, 8, 7, 4, 8, 8, 9, 4, 2, 3, 0, 0, 5, 0, 7, 5, 0, 0, 4, 9,\n",
       "        1, 8, 8, 0, 3, 0, 9, 8, 0, 9, 6, 1, 6, 5, 5, 5, 4, 9, 1, 8, 4, 0, 8, 2,\n",
       "        1, 0, 6, 2, 0, 8, 0, 6, 8, 2, 6, 0, 8, 8, 4, 3, 0, 5, 0, 4, 4, 5, 2, 6,\n",
       "        1, 1, 9, 9, 8, 9, 9, 0, 1, 0, 9, 8, 8, 9, 8, 1, 2, 6, 0, 9, 9, 9, 0, 8,\n",
       "        8, 2, 8, 7, 9, 9, 4, 8, 8, 2, 7, 2, 8, 6, 0, 4, 9, 5, 5, 4, 9, 3, 5, 0,\n",
       "        0, 6, 9, 4, 4, 2, 1, 0, 0, 3, 5, 3, 0, 4, 2, 2, 8, 6, 2, 6, 9, 0, 7, 4,\n",
       "        9, 6, 6, 0, 5, 8, 1, 3, 8, 8, 9, 9, 1, 2, 0, 9, 0, 6, 7, 9, 0, 2, 1, 5,\n",
       "        8, 1, 8, 7, 9, 5, 1, 6, 8, 0, 9, 1, 0, 0, 8, 9, 6, 0, 9, 8, 5, 8, 3, 1,\n",
       "        8, 8, 3, 1, 1, 6, 1, 4, 9, 6, 2, 2, 3, 8, 9, 4, 4, 2, 4, 9, 0, 0, 5, 0,\n",
       "        2, 1, 2, 5, 6, 8, 6, 1, 5, 3, 4, 5, 4, 7, 7, 5, 4, 9, 0, 0, 5, 9, 9, 8,\n",
       "        0, 5, 7, 8, 0, 9, 9, 0, 9, 9, 4, 2, 2, 8, 5, 6, 0, 6, 2, 3, 8, 3, 8, 3,\n",
       "        2, 8, 9, 8, 6, 5, 9, 6, 6, 5, 0, 0, 4, 0, 6, 8, 1, 9, 8, 2, 5, 8, 5, 9,\n",
       "        6, 0, 2, 6, 6, 9, 2, 4, 9, 9, 8, 4, 0, 7, 0, 2, 0, 0, 1, 9, 1, 1, 5, 2,\n",
       "        8, 5, 9, 5, 8, 5, 8, 2, 2, 0, 8, 8, 1, 9, 5, 9, 3, 1, 9, 5, 1, 0, 6, 5,\n",
       "        0, 5, 5, 4, 9, 3, 4, 2, 6, 0, 3, 2, 3, 1, 6, 0, 7, 8, 8, 9, 8, 6, 8, 5,\n",
       "        4, 9, 2, 0, 0, 9, 8, 8, 9, 9, 9, 0, 0, 6, 1, 2, 3, 4, 2, 8, 2, 7, 4, 9,\n",
       "        9, 0, 9, 2, 5, 0, 1, 1, 2, 4, 2, 0, 4, 6, 5, 9, 5, 1, 6, 4, 6, 0, 8, 4,\n",
       "        9, 5, 2, 2, 0, 0, 0, 5, 9, 9, 8, 5, 5, 6, 8, 5, 8, 8, 1, 9, 9, 4, 0, 1,\n",
       "        8, 8, 9, 2, 1, 4, 4, 7, 3, 1, 0, 7, 0, 8, 5, 2, 9, 6, 1, 0, 4, 9, 7, 3,\n",
       "        4, 1, 0, 8, 4, 2, 8, 8, 2, 1, 4, 4, 4, 5, 6, 0, 2, 8, 6, 1, 8, 5, 9, 9,\n",
       "        4, 4, 5, 0, 9, 0, 2, 9, 9, 9, 2, 9, 8, 4, 8, 0, 0, 8, 6, 0, 2, 5, 8, 0,\n",
       "        0, 8, 7, 4, 8, 8, 9, 4, 2, 3, 0, 0, 5, 0, 7, 5])"
      ]
     },
     "execution_count": 116,
     "metadata": {},
     "output_type": "execute_result"
    }
   ],
   "source": []
  },
  {
   "cell_type": "code",
   "execution_count": null,
   "id": "b11a36b6",
   "metadata": {},
   "outputs": [],
   "source": []
  }
 ],
 "metadata": {
  "kernelspec": {
   "display_name": "base",
   "language": "python",
   "name": "python3"
  },
  "language_info": {
   "codemirror_mode": {
    "name": "ipython",
    "version": 3
   },
   "file_extension": ".py",
   "mimetype": "text/x-python",
   "name": "python",
   "nbconvert_exporter": "python",
   "pygments_lexer": "ipython3",
   "version": "3.12.2"
  }
 },
 "nbformat": 4,
 "nbformat_minor": 5
}
